{
 "cells": [
  {
   "cell_type": "code",
   "execution_count": 42,
   "metadata": {},
   "outputs": [],
   "source": [
    "import pymongo\n",
    "import pandas as pd"
   ]
  },
  {
   "cell_type": "code",
   "execution_count": 43,
   "metadata": {},
   "outputs": [],
   "source": [
    "# Establish a connection to MongoDB (replace connection string if needed)\n",
    "client = pymongo.MongoClient(\"mongodb://localhost:27017/\")\n",
    "\n",
    "# Access the database\n",
    "db = client['mock_Weather']\n",
    "\n",
    "# Access the 'users' collection\n",
    "usersCollection = db['users']"
   ]
  },
  {
   "cell_type": "code",
   "execution_count": 44,
   "metadata": {},
   "outputs": [
    {
     "data": {
      "text/plain": [
       "'username_1'"
      ]
     },
     "execution_count": 44,
     "metadata": {},
     "output_type": "execute_result"
    }
   ],
   "source": [
    "# Create a unique index on the 'username' field\n",
    "usersCollection.create_index(\"username\", unique=True)"
   ]
  },
  {
   "cell_type": "code",
   "execution_count": 45,
   "metadata": {},
   "outputs": [],
   "source": [
    "# Sample data for 'users' collection\n",
    "users = [\n",
    "    {\n",
    "        \"first_name\": \"John\",\n",
    "        \"last_name\": \"Doe\",\n",
    "        \"username\": \"john_doe\",\n",
    "        \"email\": \"john.doe@example.com\",\n",
    "        \"profile_image\": \"\",\n",
    "        \"favorites\": [{\"zip\": 76701,\n",
    "                       \"town\": \"waco, tx\"},\n",
    "                      {\"zip\": 76702,\n",
    "                       \"town\": \"waco, tx\"}],\n",
    "        \"home\": {\"zip\": 75201,\n",
    "                \"town\": \"dallas, tx\"},\n",
    "        \"password\": \"password123\"\n",
    "    },\n",
    "    {\n",
    "        \"first_name\": \"Jane\",\n",
    "        \"last_name\": \"Smith\",\n",
    "        \"username\": \"jane_smith\",\n",
    "        \"email\": \"jane.smith@example.com\",\n",
    "        \"profile_image\": \"\",\n",
    "        \"favorites\": [{\"zip\": 12477,\n",
    "                       \"town\": \"saugerties, ny\" },\n",
    "                      {\"zip\": 20001,\n",
    "                       \"town\": \"washington, dc\"}],\n",
    "        \"home\": {\"zip\": 10001,\n",
    "                \"town\": \"new york, ny\"},\n",
    "        \"password\": \"password321\"\n",
    "    }\n",
    "]"
   ]
  },
  {
   "cell_type": "code",
   "execution_count": 46,
   "metadata": {},
   "outputs": [
    {
     "name": "stdout",
     "output_type": "stream",
     "text": [
      "Data inserted successfully.\n"
     ]
    }
   ],
   "source": [
    "# Insert the sample data into the 'users' collection\n",
    "try:\n",
    "    usersCollection.insert_many(users)\n",
    "    print(\"Data inserted successfully.\")\n",
    "except Exception as e:\n",
    "    print(f\"An error occurred: {e}\")"
   ]
  },
  {
   "cell_type": "code",
   "execution_count": 47,
   "metadata": {},
   "outputs": [
    {
     "data": {
      "text/html": [
       "<div>\n",
       "<style scoped>\n",
       "    .dataframe tbody tr th:only-of-type {\n",
       "        vertical-align: middle;\n",
       "    }\n",
       "\n",
       "    .dataframe tbody tr th {\n",
       "        vertical-align: top;\n",
       "    }\n",
       "\n",
       "    .dataframe thead th {\n",
       "        text-align: right;\n",
       "    }\n",
       "</style>\n",
       "<table border=\"1\" class=\"dataframe\">\n",
       "  <thead>\n",
       "    <tr style=\"text-align: right;\">\n",
       "      <th></th>\n",
       "      <th>_id</th>\n",
       "      <th>first_name</th>\n",
       "      <th>last_name</th>\n",
       "      <th>username</th>\n",
       "      <th>email</th>\n",
       "      <th>profile_image</th>\n",
       "      <th>favorites</th>\n",
       "      <th>home</th>\n",
       "      <th>password</th>\n",
       "    </tr>\n",
       "  </thead>\n",
       "  <tbody>\n",
       "    <tr>\n",
       "      <th>0</th>\n",
       "      <td>64f00ec47cd243cba8265383</td>\n",
       "      <td>John</td>\n",
       "      <td>Doe</td>\n",
       "      <td>john_doe</td>\n",
       "      <td>john.doe@example.com</td>\n",
       "      <td></td>\n",
       "      <td>[{'zip': 76701, 'town': 'waco, tx'}, {'zip': 7...</td>\n",
       "      <td>{'zip': 75201, 'town': 'dallas, tx'}</td>\n",
       "      <td>password123</td>\n",
       "    </tr>\n",
       "    <tr>\n",
       "      <th>1</th>\n",
       "      <td>64f00ec47cd243cba8265384</td>\n",
       "      <td>Jane</td>\n",
       "      <td>Smith</td>\n",
       "      <td>jane_smith</td>\n",
       "      <td>jane.smith@example.com</td>\n",
       "      <td></td>\n",
       "      <td>[{'zip': 12477, 'town': 'saugerties, ny'}, {'z...</td>\n",
       "      <td>{'zip': 10001, 'town': 'new york, ny'}</td>\n",
       "      <td>password321</td>\n",
       "    </tr>\n",
       "  </tbody>\n",
       "</table>\n",
       "</div>"
      ],
      "text/plain": [
       "                        _id first_name last_name    username  \\\n",
       "0  64f00ec47cd243cba8265383       John       Doe    john_doe   \n",
       "1  64f00ec47cd243cba8265384       Jane     Smith  jane_smith   \n",
       "\n",
       "                    email profile_image  \\\n",
       "0    john.doe@example.com                 \n",
       "1  jane.smith@example.com                 \n",
       "\n",
       "                                           favorites  \\\n",
       "0  [{'zip': 76701, 'town': 'waco, tx'}, {'zip': 7...   \n",
       "1  [{'zip': 12477, 'town': 'saugerties, ny'}, {'z...   \n",
       "\n",
       "                                     home     password  \n",
       "0    {'zip': 75201, 'town': 'dallas, tx'}  password123  \n",
       "1  {'zip': 10001, 'town': 'new york, ny'}  password321  "
      ]
     },
     "execution_count": 47,
     "metadata": {},
     "output_type": "execute_result"
    }
   ],
   "source": [
    "# Query all documents in the 'users' collection\n",
    "usersDocuments = usersCollection.find({})\n",
    "\n",
    "# Display the data using a pandas DataFrame\n",
    "pd.DataFrame(list(usersDocuments))"
   ]
  }
 ],
 "metadata": {
  "kernelspec": {
   "display_name": "Python 3",
   "language": "python",
   "name": "python3"
  },
  "language_info": {
   "codemirror_mode": {
    "name": "ipython",
    "version": 3
   },
   "file_extension": ".py",
   "mimetype": "text/x-python",
   "name": "python",
   "nbconvert_exporter": "python",
   "pygments_lexer": "ipython3",
   "version": "3.8.7"
  },
  "orig_nbformat": 4
 },
 "nbformat": 4,
 "nbformat_minor": 2
}
